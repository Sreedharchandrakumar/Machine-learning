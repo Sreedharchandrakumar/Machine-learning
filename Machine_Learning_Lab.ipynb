{
  "nbformat": 4,
  "nbformat_minor": 0,
  "metadata": {
    "colab": {
      "name": "Machine Learning Lab ",
      "provenance": []
    },
    "kernelspec": {
      "name": "python3",
      "display_name": "Python 3"
    },
    "language_info": {
      "name": "python"
    }
  },
  "cells": [
    {
      "cell_type": "code",
      "execution_count": 2,
      "metadata": {
        "id": "khPFatB-7dAG"
      },
      "outputs": [],
      "source": [
        "import pandas as pd\n",
        "import numpy as np\n",
        "import matplotlib.pyplot as plt"
      ]
    },
    {
      "cell_type": "code",
      "source": [
        "df=pd.read_csv(\"/content/StudentsPerformance.csv\")\n",
        "df.tail()"
      ],
      "metadata": {
        "id": "e3DHk_OpAc8o"
      },
      "execution_count": null,
      "outputs": []
    },
    {
      "cell_type": "code",
      "source": [
        "df.max()"
      ],
      "metadata": {
        "colab": {
          "base_uri": "https://localhost:8080/"
        },
        "id": "ce29d_eeBBvZ",
        "outputId": "aa98cdd1-3cc2-4159-f265-b6ab057e755a"
      },
      "execution_count": 4,
      "outputs": [
        {
          "output_type": "execute_result",
          "data": {
            "text/plain": [
              "gender                                     male\n",
              "race/ethnicity                          group E\n",
              "parental level of education    some high school\n",
              "lunch                                  standard\n",
              "test preparation course                    none\n",
              "math score                                   97\n",
              "reading score                                95\n",
              "writing score                                93\n",
              "dtype: object"
            ]
          },
          "metadata": {},
          "execution_count": 4
        }
      ]
    },
    {
      "cell_type": "code",
      "source": [
        "x =df.iloc[:,[5,6]].values\n",
        "y=df.iloc[:,6].values\n",
        "print(x)"
      ],
      "metadata": {
        "colab": {
          "base_uri": "https://localhost:8080/"
        },
        "id": "E8pZl4NuBFov",
        "outputId": "ae67c19e-d123-409e-94a6-97e178bfc2f9"
      },
      "execution_count": 8,
      "outputs": [
        {
          "output_type": "stream",
          "name": "stdout",
          "text": [
            "[[72 72]\n",
            " [69 90]\n",
            " [90 95]\n",
            " [47 57]\n",
            " [76 78]\n",
            " [71 83]\n",
            " [88 95]\n",
            " [40 43]\n",
            " [64 64]\n",
            " [38 60]\n",
            " [58 54]\n",
            " [40 52]\n",
            " [65 81]\n",
            " [78 72]\n",
            " [50 53]\n",
            " [69 75]\n",
            " [88 89]\n",
            " [18 32]\n",
            " [46 42]\n",
            " [54 58]\n",
            " [66 69]\n",
            " [65 75]\n",
            " [44 54]\n",
            " [69 73]\n",
            " [74 71]\n",
            " [73 74]\n",
            " [69 54]\n",
            " [67 69]\n",
            " [70 70]\n",
            " [62 70]\n",
            " [69 74]\n",
            " [63 65]\n",
            " [56 72]\n",
            " [40 42]\n",
            " [97 87]\n",
            " [81 81]\n",
            " [74 81]\n",
            " [50 64]\n",
            " [75 90]\n",
            " [57 56]\n",
            " [55 61]\n",
            " [58 73]\n",
            " [53 58]\n",
            " [59 65]\n",
            " [50 56]\n",
            " [65 54]\n",
            " [55 65]\n",
            " [66 71]\n",
            " [57 74]\n",
            " [82 84]\n",
            " [53 55]\n",
            " [77 69]\n",
            " [53 44]\n",
            " [88 78]\n",
            " [71 84]\n",
            " [33 41]\n",
            " [82 85]\n",
            " [52 55]\n",
            " [58 59]\n",
            " [ 0 17]\n",
            " [79 74]\n",
            " [39 39]\n",
            " [62 61]\n",
            " [69 80]\n",
            " [59 58]\n",
            " [67 64]\n",
            " [45 37]\n",
            " [60 72]\n",
            " [61 58]\n",
            " [39 64]\n",
            " [58 63]\n",
            " [63 55]\n",
            " [41 51]\n",
            " [61 57]\n",
            " [49 49]\n",
            " [44 41]\n",
            " [30 26]\n",
            " [80 78]\n",
            " [61 74]\n",
            " [62 68]\n",
            " [47 49]\n",
            " [49 45]\n",
            " [50 47]\n",
            " [72 64]\n",
            " [42 39]\n",
            " [73 80]\n",
            " [76 83]\n",
            " [71 71]\n",
            " [58 70]\n",
            " [73 86]\n",
            " [65 72]\n",
            " [27 34]\n",
            " [71 79]\n",
            " [43 45]\n",
            " [79 86]\n",
            " [78 81]\n",
            " [65 66]\n",
            " [63 72]\n",
            " [58 67]]\n"
          ]
        }
      ]
    },
    {
      "cell_type": "code",
      "source": [
        "from sklearn.model_selection import train_test_split\n",
        "x_train,x_test,y_train,y_test=train_test_split(x,y,test_size=0.25,random_state=0)\n",
        "print(x_test)\n",
        "print(y_test)"
      ],
      "metadata": {
        "id": "e6_Wlh-jBK9m",
        "colab": {
          "base_uri": "https://localhost:8080/"
        },
        "outputId": "e1d0e782-c695-4e66-a312-ec7a64f6fcd4"
      },
      "execution_count": 9,
      "outputs": [
        {
          "output_type": "stream",
          "name": "stdout",
          "text": [
            "[[69 54]\n",
            " [76 83]\n",
            " [90 95]\n",
            " [33 41]\n",
            " [44 41]\n",
            " [71 79]\n",
            " [88 89]\n",
            " [61 57]\n",
            " [71 84]\n",
            " [79 86]\n",
            " [88 78]\n",
            " [27 34]\n",
            " [61 74]\n",
            " [78 72]\n",
            " [40 43]\n",
            " [69 74]\n",
            " [44 54]\n",
            " [74 71]\n",
            " [40 42]\n",
            " [64 64]\n",
            " [59 65]\n",
            " [62 61]\n",
            " [47 57]\n",
            " [63 55]\n",
            " [65 54]]\n",
            "[54 83 95 41 41 79 89 57 84 86 78 34 74 72 43 74 54 71 42 64 65 61 57 55\n",
            " 54]\n"
          ]
        }
      ]
    },
    {
      "cell_type": "code",
      "source": [
        "from sklearn.preprocessing import StandardScaler\n",
        "st_x=StandardScaler()\n",
        "x_train=st_x.fit_transform(x_train)\n",
        "x_test=st_x.transform(x_test)\n",
        "print(x_train)"
      ],
      "metadata": {
        "id": "qBb-B0lGBRQ-",
        "colab": {
          "base_uri": "https://localhost:8080/"
        },
        "outputId": "8a4e9a0d-602a-4fa5-87a2-c8126e897de7"
      },
      "execution_count": 10,
      "outputs": [
        {
          "output_type": "stream",
          "name": "stdout",
          "text": [
            "[[-0.18821686  0.60274038]\n",
            " [ 1.80150423  1.95239248]\n",
            " [-0.12403231  0.15285635]\n",
            " [-0.63750872 -1.1325266 ]\n",
            " [-1.92119974 -2.4821787 ]\n",
            " [ 1.22384327  0.60274038]\n",
            " [-0.83006237 -1.00398831]\n",
            " [ 0.83873596  1.37397015]\n",
            " [ 0.06852135 -0.42556598]\n",
            " [ 1.09547416  0.28139465]\n",
            " [ 0.45362865  0.28139465]\n",
            " [-0.89424692 -1.45387234]\n",
            " [ 1.41639692  1.30970101]\n",
            " [ 0.58199775  0.98835527]\n",
            " [-0.70169327 -1.00398831]\n",
            " [ 0.58199775  1.63104675]\n",
            " [-1.34353878 -1.64667978]\n",
            " [-0.44495506 -0.42556598]\n",
            " [-0.12403231  0.53847124]\n",
            " [ 1.03128961  0.85981697]\n",
            " [ 0.58199775  0.66700953]\n",
            " [-2.69141436 -2.09656381]\n",
            " [-0.31658596 -0.23275853]\n",
            " [ 0.96710506  1.63104675]\n",
            " [ 0.71036686  1.18116271]\n",
            " [ 0.32525955  0.47420209]\n",
            " [-3.84673628 -3.06060103]\n",
            " [ 0.77455141  0.47420209]\n",
            " [ 2.37916519  1.4382393 ]\n",
            " [ 0.64618231  0.34566379]\n",
            " [-0.44495506 -0.61837342]\n",
            " [-1.27935423 -0.81118086]\n",
            " [ 1.35221237  1.05262442]\n",
            " [ 0.58199775  0.53847124]\n",
            " [-0.44495506 -1.32533404]\n",
            " [-0.12403231 -0.68264257]\n",
            " [ 0.19689045  0.02431806]\n",
            " [-0.95843147 -1.77521808]\n",
            " [-0.50913962 -0.61837342]\n",
            " [ 0.1327059   0.2171255 ]\n",
            " [ 0.83873596  0.98835527]\n",
            " [-0.25240141  0.47420209]\n",
            " [-1.15098513 -1.64667978]\n",
            " [-0.63750872 -0.74691172]\n",
            " [-0.12403231  0.34566379]\n",
            " [-0.38077051 -0.42556598]\n",
            " [ 0.1327059   0.34566379]\n",
            " [ 1.41639692  1.24543186]\n",
            " [ 0.32525955  0.0885872 ]\n",
            " [ 0.19689045  0.47420209]\n",
            " [-1.34353878 -0.03995109]\n",
            " [ 0.3894441   0.28139465]\n",
            " [-1.08680058 -1.2610649 ]\n",
            " [-1.21516968 -0.87545001]\n",
            " [ 1.28802782  0.85981697]\n",
            " [ 0.83873596  0.60274038]\n",
            " [-0.63750872 -0.03995109]\n",
            " [-0.70169327 -1.2610649 ]\n",
            " [-0.31658596  0.02431806]\n",
            " [-0.18821686 -0.55410427]\n",
            " [ 0.45362865 -0.03995109]\n",
            " [-0.12403231 -0.36129683]\n",
            " [ 0.32525955  1.05262442]\n",
            " [-0.12403231 -0.10422024]\n",
            " [ 0.71036686  0.40993294]\n",
            " [ 0.90292051  1.05262442]\n",
            " [ 0.32525955  0.66700953]\n",
            " [ 0.77455141 -0.03995109]\n",
            " [-1.40772333 -0.29702768]\n",
            " [ 1.15965872  1.05262442]\n",
            " [ 0.00433679  0.47420209]\n",
            " [-0.05984776 -0.42556598]\n",
            " [ 0.3894441   0.40993294]\n",
            " [-0.63750872 -0.55410427]]\n"
          ]
        }
      ]
    },
    {
      "cell_type": "code",
      "source": [
        "from sklearn.tree import DecisionTreeClassifier\n",
        "classifier= DecisionTreeClassifier(criterion='entropy',random_state=0)\n",
        "classifier.fit(x_train,y_train)\n",
        "y_pred=classifier.predict(x_test)\n",
        "print(y_pred)\n"
      ],
      "metadata": {
        "id": "XBAhG3hpBWA2",
        "colab": {
          "base_uri": "https://localhost:8080/"
        },
        "outputId": "296536fd-a2fb-4cfb-ba39-be8abb47f9de"
      },
      "execution_count": 11,
      "outputs": [
        {
          "output_type": "stream",
          "name": "stdout",
          "text": [
            "[54 86 95 26 37 75 87 58 83 85 78 26 74 72 39 74 52 71 39 64 65 61 58 55\n",
            " 54]\n"
          ]
        }
      ]
    },
    {
      "cell_type": "code",
      "source": [
        "from sklearn.metrics import confusion_matrix\n",
        "cm=confusion_matrix(y_test,y_pred)\n",
        "print(cm)"
      ],
      "metadata": {
        "id": "h3cj9wgRBaI2"
      },
      "execution_count": null,
      "outputs": []
    },
    {
      "cell_type": "code",
      "source": [
        "import matplotlib.pyplot as plt\n",
        "y_pred=classifier.predict(x_test)\n",
        "plt.plot(y_pred)\n",
        "plt.show()"
      ],
      "metadata": {
        "colab": {
          "base_uri": "https://localhost:8080/",
          "height": 265
        },
        "id": "HTPdjT4jBcy2",
        "outputId": "1d6d656b-0960-4dd9-8eae-e111db0eae35"
      },
      "execution_count": 13,
      "outputs": [
        {
          "output_type": "display_data",
          "data": {
            "text/plain": [
              "<Figure size 432x288 with 1 Axes>"
            ],
            "image/png": "[encoded data removed]"
          },
          "metadata": {
            "needs_background": "light"
          }
        }
      ]
    },
    {
      "cell_type": "code",
      "source": [
        "cm=confusion_matrix(y_test,y_pred)\n",
        "plt.plot(cm)\n",
        "plt.show()"
      ],
      "metadata": {
        "colab": {
          "base_uri": "https://localhost:8080/",
          "height": 265
        },
        "id": "lkCcsFOuBgKG",
        "outputId": "405e631e-2e4a-4ae8-9367-4f9a786b63e4"
      },
      "execution_count": 14,
      "outputs": [
        {
          "output_type": "display_data",
          "data": {
            "text/plain": [
              "<Figure size 432x288 with 1 Axes>"
            ],
            "image/png": "[encoded data removed]"
          },
          "metadata": {
            "needs_background": "light"
          }
        }
      ]
    },
    {
      "cell_type": "code",
      "source": [
        "from sklearn import tree\n",
        "x,y=x.data,y.data \n",
        "classifier = tree.DecisionTreeClassifier()\n",
        "classifier = classifier.fit(x, y)\n",
        "tree.plot_tree(classifier)"
      ],
      "metadata": {
        "colab": {
          "base_uri": "https://localhost:8080/",
          "height": 1000
        },
        "id": "vT0f0HlMBkTv",
        "outputId": "870a22e8-9bab-439b-cbdb-0eef03ac281a"
      },
      "execution_count": 15,
      "outputs": [
        {
          "output_type": "execute_result",
          "data": {
            "text/plain": [
              "[Text(0.6440217391304348, 0.9642857142857143, 'X[1] <= 71.5\\ngini = 0.972\\nsamples = 99\\nvalue = [1, 1, 1, 1, 1, 2, 2, 2, 1, 1, 2, 1, 2, 1\\n1, 1, 4, 3, 2, 2, 4, 1, 1, 2, 1, 5, 3, 1\\n1, 1, 3, 3, 3, 6, 2, 5, 2, 3, 1, 2, 4, 2\\n2, 1, 2, 1, 1, 2, 2]'),\n",
              " Text(0.5543478260869565, 0.8928571428571429, 'X[1] <= 70.5\\ngini = 0.959\\nsamples = 61\\nvalue = [1, 1, 1, 1, 1, 2, 2, 2, 1, 1, 2, 1, 2, 1\\n1, 1, 4, 3, 2, 2, 4, 1, 1, 2, 1, 5, 3, 1\\n1, 1, 3, 3, 3, 0, 0, 0, 0, 0, 0, 0, 0, 0\\n0, 0, 0, 0, 0, 0, 0]'),\n",
              " Text(0.532608695652174, 0.8214285714285714, 'X[1] <= 69.5\\ngini = 0.958\\nsamples = 58\\nvalue = [1, 1, 1, 1, 1, 2, 2, 2, 1, 1, 2, 1, 2, 1\\n1, 1, 4, 3, 2, 2, 4, 1, 1, 2, 1, 5, 3, 1\\n1, 1, 3, 3, 0, 0, 0, 0, 0, 0, 0, 0, 0, 0\\n0, 0, 0, 0, 0, 0, 0]'),\n",
              " Text(0.5108695652173914, 0.75, 'X[1] <= 63.5\\ngini = 0.956\\nsamples = 55\\nvalue = [1, 1, 1, 1, 1, 2, 2, 2, 1, 1, 2, 1, 2, 1\\n1, 1, 4, 3, 2, 2, 4, 1, 1, 2, 1, 5, 3, 1\\n1, 1, 3, 0, 0, 0, 0, 0, 0, 0, 0, 0, 0, 0\\n0, 0, 0, 0, 0, 0, 0]'),\n",
              " Text(0.391304347826087, 0.6785714285714286, 'X[1] <= 57.5\\ngini = 0.948\\nsamples = 41\\nvalue = [1, 1, 1, 1, 1, 2, 2, 2, 1, 1, 2, 1, 2, 1\\n1, 1, 4, 3, 2, 2, 4, 1, 1, 2, 1, 0, 0, 0\\n0, 0, 0, 0, 0, 0, 0, 0, 0, 0, 0, 0, 0, 0\\n0, 0, 0, 0, 0, 0, 0]'),\n",
              " Text(0.2826086956521739, 0.6071428571428571, 'X[1] <= 53.5\\ngini = 0.938\\nsamples = 32\\nvalue = [1, 1, 1, 1, 1, 2, 2, 2, 1, 1, 2, 1, 2, 1\\n1, 1, 4, 3, 2, 2, 0, 0, 0, 0, 0, 0, 0, 0\\n0, 0, 0, 0, 0, 0, 0, 0, 0, 0, 0, 0, 0, 0\\n0, 0, 0, 0, 0, 0, 0]'),\n",
              " Text(0.1956521739130435, 0.5357142857142857, 'X[1] <= 44.5\\ngini = 0.93\\nsamples = 21\\nvalue = [1, 1, 1, 1, 1, 2, 2, 2, 1, 1, 2, 1, 2, 1\\n1, 1, 0, 0, 0, 0, 0, 0, 0, 0, 0, 0, 0, 0\\n0, 0, 0, 0, 0, 0, 0, 0, 0, 0, 0, 0, 0, 0\\n0, 0, 0, 0, 0, 0, 0]'),\n",
              " Text(0.10869565217391304, 0.4642857142857143, 'X[1] <= 40.0\\ngini = 0.888\\nsamples = 13\\nvalue = [1, 1, 1, 1, 1, 2, 2, 2, 1, 1, 0, 0, 0, 0\\n0, 0, 0, 0, 0, 0, 0, 0, 0, 0, 0, 0, 0, 0\\n0, 0, 0, 0, 0, 0, 0, 0, 0, 0, 0, 0, 0, 0\\n0, 0, 0, 0, 0, 0, 0]'),\n",
              " Text(0.06521739130434782, 0.39285714285714285, 'X[1] <= 38.0\\ngini = 0.816\\nsamples = 7\\nvalue = [1, 1, 1, 1, 1, 2, 0, 0, 0, 0, 0, 0, 0, 0\\n0, 0, 0, 0, 0, 0, 0, 0, 0, 0, 0, 0, 0, 0\\n0, 0, 0, 0, 0, 0, 0, 0, 0, 0, 0, 0, 0, 0\\n0, 0, 0, 0, 0, 0, 0]'),\n",
              " Text(0.043478260869565216, 0.32142857142857145, 'X[0] <= 9.0\\ngini = 0.8\\nsamples = 5\\nvalue = [1, 1, 1, 1, 1, 0, 0, 0, 0, 0, 0, 0, 0, 0\\n0, 0, 0, 0, 0, 0, 0, 0, 0, 0, 0, 0, 0, 0\\n0, 0, 0, 0, 0, 0, 0, 0, 0, 0, 0, 0, 0, 0\\n0, 0, 0, 0, 0, 0, 0]'),\n",
              " Text(0.021739130434782608, 0.25, 'gini = 0.0\\nsamples = 1\\nvalue = [1, 0, 0, 0, 0, 0, 0, 0, 0, 0, 0, 0, 0, 0\\n0, 0, 0, 0, 0, 0, 0, 0, 0, 0, 0, 0, 0, 0\\n0, 0, 0, 0, 0, 0, 0, 0, 0, 0, 0, 0, 0, 0\\n0, 0, 0, 0, 0, 0, 0]'),\n",
              " Text(0.06521739130434782, 0.25, 'X[1] <= 29.0\\ngini = 0.75\\nsamples = 4\\nvalue = [0, 1, 1, 1, 1, 0, 0, 0, 0, 0, 0, 0, 0, 0\\n0, 0, 0, 0, 0, 0, 0, 0, 0, 0, 0, 0, 0, 0\\n0, 0, 0, 0, 0, 0, 0, 0, 0, 0, 0, 0, 0, 0\\n0, 0, 0, 0, 0, 0, 0]'),\n",
              " Text(0.043478260869565216, 0.17857142857142858, 'gini = 0.0\\nsamples = 1\\nvalue = [0, 1, 0, 0, 0, 0, 0, 0, 0, 0, 0, 0, 0, 0\\n0, 0, 0, 0, 0, 0, 0, 0, 0, 0, 0, 0, 0, 0\\n0, 0, 0, 0, 0, 0, 0, 0, 0, 0, 0, 0, 0, 0\\n0, 0, 0, 0, 0, 0, 0]'),\n",
              " Text(0.08695652173913043, 0.17857142857142858, 'X[1] <= 33.0\\ngini = 0.667\\nsamples = 3\\nvalue = [0, 0, 1, 1, 1, 0, 0, 0, 0, 0, 0, 0, 0, 0\\n0, 0, 0, 0, 0, 0, 0, 0, 0, 0, 0, 0, 0, 0\\n0, 0, 0, 0, 0, 0, 0, 0, 0, 0, 0, 0, 0, 0\\n0, 0, 0, 0, 0, 0, 0]'),\n",
              " Text(0.06521739130434782, 0.10714285714285714, 'gini = 0.0\\nsamples = 1\\nvalue = [0, 0, 1, 0, 0, 0, 0, 0, 0, 0, 0, 0, 0, 0\\n0, 0, 0, 0, 0, 0, 0, 0, 0, 0, 0, 0, 0, 0\\n0, 0, 0, 0, 0, 0, 0, 0, 0, 0, 0, 0, 0, 0\\n0, 0, 0, 0, 0, 0, 0]'),\n",
              " Text(0.10869565217391304, 0.10714285714285714, 'X[1] <= 35.5\\ngini = 0.5\\nsamples = 2\\nvalue = [0, 0, 0, 1, 1, 0, 0, 0, 0, 0, 0, 0, 0, 0\\n0, 0, 0, 0, 0, 0, 0, 0, 0, 0, 0, 0, 0, 0\\n0, 0, 0, 0, 0, 0, 0, 0, 0, 0, 0, 0, 0, 0\\n0, 0, 0, 0, 0, 0, 0]'),\n",
              " Text(0.08695652173913043, 0.03571428571428571, 'gini = 0.0\\nsamples = 1\\nvalue = [0, 0, 0, 1, 0, 0, 0, 0, 0, 0, 0, 0, 0, 0\\n0, 0, 0, 0, 0, 0, 0, 0, 0, 0, 0, 0, 0, 0\\n0, 0, 0, 0, 0, 0, 0, 0, 0, 0, 0, 0, 0, 0\\n0, 0, 0, 0, 0, 0, 0]'),\n",
              " Text(0.13043478260869565, 0.03571428571428571, 'gini = 0.0\\nsamples = 1\\nvalue = [0, 0, 0, 0, 1, 0, 0, 0, 0, 0, 0, 0, 0, 0\\n0, 0, 0, 0, 0, 0, 0, 0, 0, 0, 0, 0, 0, 0\\n0, 0, 0, 0, 0, 0, 0, 0, 0, 0, 0, 0, 0, 0\\n0, 0, 0, 0, 0, 0, 0]'),\n",
              " Text(0.08695652173913043, 0.32142857142857145, 'gini = 0.0\\nsamples = 2\\nvalue = [0, 0, 0, 0, 0, 2, 0, 0, 0, 0, 0, 0, 0, 0\\n0, 0, 0, 0, 0, 0, 0, 0, 0, 0, 0, 0, 0, 0\\n0, 0, 0, 0, 0, 0, 0, 0, 0, 0, 0, 0, 0, 0\\n0, 0, 0, 0, 0, 0, 0]'),\n",
              " Text(0.15217391304347827, 0.39285714285714285, 'X[1] <= 41.5\\ngini = 0.722\\nsamples = 6\\nvalue = [0, 0, 0, 0, 0, 0, 2, 2, 1, 1, 0, 0, 0, 0\\n0, 0, 0, 0, 0, 0, 0, 0, 0, 0, 0, 0, 0, 0\\n0, 0, 0, 0, 0, 0, 0, 0, 0, 0, 0, 0, 0, 0\\n0, 0, 0, 0, 0, 0, 0]'),\n",
              " Text(0.13043478260869565, 0.32142857142857145, 'gini = 0.0\\nsamples = 2\\nvalue = [0, 0, 0, 0, 0, 0, 2, 0, 0, 0, 0, 0, 0, 0\\n0, 0, 0, 0, 0, 0, 0, 0, 0, 0, 0, 0, 0, 0\\n0, 0, 0, 0, 0, 0, 0, 0, 0, 0, 0, 0, 0, 0\\n0, 0, 0, 0, 0, 0, 0]'),\n",
              " Text(0.17391304347826086, 0.32142857142857145, 'X[1] <= 42.5\\ngini = 0.625\\nsamples = 4\\nvalue = [0, 0, 0, 0, 0, 0, 0, 2, 1, 1, 0, 0, 0, 0\\n0, 0, 0, 0, 0, 0, 0, 0, 0, 0, 0, 0, 0, 0\\n0, 0, 0, 0, 0, 0, 0, 0, 0, 0, 0, 0, 0, 0\\n0, 0, 0, 0, 0, 0, 0]'),\n",
              " Text(0.15217391304347827, 0.25, 'gini = 0.0\\nsamples = 2\\nvalue = [0, 0, 0, 0, 0, 0, 0, 2, 0, 0, 0, 0, 0, 0\\n0, 0, 0, 0, 0, 0, 0, 0, 0, 0, 0, 0, 0, 0\\n0, 0, 0, 0, 0, 0, 0, 0, 0, 0, 0, 0, 0, 0\\n0, 0, 0, 0, 0, 0, 0]'),\n",
              " Text(0.1956521739130435, 0.25, 'X[1] <= 43.5\\ngini = 0.5\\nsamples = 2\\nvalue = [0, 0, 0, 0, 0, 0, 0, 0, 1, 1, 0, 0, 0, 0\\n0, 0, 0, 0, 0, 0, 0, 0, 0, 0, 0, 0, 0, 0\\n0, 0, 0, 0, 0, 0, 0, 0, 0, 0, 0, 0, 0, 0\\n0, 0, 0, 0, 0, 0, 0]'),\n",
              " Text(0.17391304347826086, 0.17857142857142858, 'gini = 0.0\\nsamples = 1\\nvalue = [0, 0, 0, 0, 0, 0, 0, 0, 1, 0, 0, 0, 0, 0\\n0, 0, 0, 0, 0, 0, 0, 0, 0, 0, 0, 0, 0, 0\\n0, 0, 0, 0, 0, 0, 0, 0, 0, 0, 0, 0, 0, 0\\n0, 0, 0, 0, 0, 0, 0]'),\n",
              " Text(0.21739130434782608, 0.17857142857142858, 'gini = 0.0\\nsamples = 1\\nvalue = [0, 0, 0, 0, 0, 0, 0, 0, 0, 1, 0, 0, 0, 0\\n0, 0, 0, 0, 0, 0, 0, 0, 0, 0, 0, 0, 0, 0\\n0, 0, 0, 0, 0, 0, 0, 0, 0, 0, 0, 0, 0, 0\\n0, 0, 0, 0, 0, 0, 0]'),\n",
              " Text(0.2826086956521739, 0.4642857142857143, 'X[1] <= 46.0\\ngini = 0.812\\nsamples = 8\\nvalue = [0, 0, 0, 0, 0, 0, 0, 0, 0, 0, 2, 1, 2, 1\\n1, 1, 0, 0, 0, 0, 0, 0, 0, 0, 0, 0, 0, 0\\n0, 0, 0, 0, 0, 0, 0, 0, 0, 0, 0, 0, 0, 0\\n0, 0, 0, 0, 0, 0, 0]'),\n",
              " Text(0.2608695652173913, 0.39285714285714285, 'gini = 0.0\\nsamples = 2\\nvalue = [0, 0, 0, 0, 0, 0, 0, 0, 0, 0, 2, 0, 0, 0\\n0, 0, 0, 0, 0, 0, 0, 0, 0, 0, 0, 0, 0, 0\\n0, 0, 0, 0, 0, 0, 0, 0, 0, 0, 0, 0, 0, 0\\n0, 0, 0, 0, 0, 0, 0]'),\n",
              " Text(0.30434782608695654, 0.39285714285714285, 'X[1] <= 50.0\\ngini = 0.778\\nsamples = 6\\nvalue = [0, 0, 0, 0, 0, 0, 0, 0, 0, 0, 0, 1, 2, 1\\n1, 1, 0, 0, 0, 0, 0, 0, 0, 0, 0, 0, 0, 0\\n0, 0, 0, 0, 0, 0, 0, 0, 0, 0, 0, 0, 0, 0\\n0, 0, 0, 0, 0, 0, 0]'),\n",
              " Text(0.2608695652173913, 0.32142857142857145, 'X[1] <= 48.0\\ngini = 0.444\\nsamples = 3\\nvalue = [0, 0, 0, 0, 0, 0, 0, 0, 0, 0, 0, 1, 2, 0\\n0, 0, 0, 0, 0, 0, 0, 0, 0, 0, 0, 0, 0, 0\\n0, 0, 0, 0, 0, 0, 0, 0, 0, 0, 0, 0, 0, 0\\n0, 0, 0, 0, 0, 0, 0]'),\n",
              " Text(0.2391304347826087, 0.25, 'gini = 0.0\\nsamples = 1\\nvalue = [0, 0, 0, 0, 0, 0, 0, 0, 0, 0, 0, 1, 0, 0\\n0, 0, 0, 0, 0, 0, 0, 0, 0, 0, 0, 0, 0, 0\\n0, 0, 0, 0, 0, 0, 0, 0, 0, 0, 0, 0, 0, 0\\n0, 0, 0, 0, 0, 0, 0]'),\n",
              " Text(0.2826086956521739, 0.25, 'gini = 0.0\\nsamples = 2\\nvalue = [0, 0, 0, 0, 0, 0, 0, 0, 0, 0, 0, 0, 2, 0\\n0, 0, 0, 0, 0, 0, 0, 0, 0, 0, 0, 0, 0, 0\\n0, 0, 0, 0, 0, 0, 0, 0, 0, 0, 0, 0, 0, 0\\n0, 0, 0, 0, 0, 0, 0]'),\n",
              " Text(0.34782608695652173, 0.32142857142857145, 'X[0] <= 40.5\\ngini = 0.667\\nsamples = 3\\nvalue = [0, 0, 0, 0, 0, 0, 0, 0, 0, 0, 0, 0, 0, 1\\n1, 1, 0, 0, 0, 0, 0, 0, 0, 0, 0, 0, 0, 0\\n0, 0, 0, 0, 0, 0, 0, 0, 0, 0, 0, 0, 0, 0\\n0, 0, 0, 0, 0, 0, 0]'),\n",
              " Text(0.32608695652173914, 0.25, 'gini = 0.0\\nsamples = 1\\nvalue = [0, 0, 0, 0, 0, 0, 0, 0, 0, 0, 0, 0, 0, 0\\n1, 0, 0, 0, 0, 0, 0, 0, 0, 0, 0, 0, 0, 0\\n0, 0, 0, 0, 0, 0, 0, 0, 0, 0, 0, 0, 0, 0\\n0, 0, 0, 0, 0, 0, 0]'),\n",
              " Text(0.3695652173913043, 0.25, 'X[0] <= 45.5\\ngini = 0.5\\nsamples = 2\\nvalue = [0, 0, 0, 0, 0, 0, 0, 0, 0, 0, 0, 0, 0, 1\\n0, 1, 0, 0, 0, 0, 0, 0, 0, 0, 0, 0, 0, 0\\n0, 0, 0, 0, 0, 0, 0, 0, 0, 0, 0, 0, 0, 0\\n0, 0, 0, 0, 0, 0, 0]'),\n",
              " Text(0.34782608695652173, 0.17857142857142858, 'gini = 0.0\\nsamples = 1\\nvalue = [0, 0, 0, 0, 0, 0, 0, 0, 0, 0, 0, 0, 0, 1\\n0, 0, 0, 0, 0, 0, 0, 0, 0, 0, 0, 0, 0, 0\\n0, 0, 0, 0, 0, 0, 0, 0, 0, 0, 0, 0, 0, 0\\n0, 0, 0, 0, 0, 0, 0]'),\n",
              " Text(0.391304347826087, 0.17857142857142858, 'gini = 0.0\\nsamples = 1\\nvalue = [0, 0, 0, 0, 0, 0, 0, 0, 0, 0, 0, 0, 0, 0\\n0, 1, 0, 0, 0, 0, 0, 0, 0, 0, 0, 0, 0, 0\\n0, 0, 0, 0, 0, 0, 0, 0, 0, 0, 0, 0, 0, 0\\n0, 0, 0, 0, 0, 0, 0]'),\n",
              " Text(0.3695652173913043, 0.5357142857142857, 'X[1] <= 54.5\\ngini = 0.727\\nsamples = 11\\nvalue = [0, 0, 0, 0, 0, 0, 0, 0, 0, 0, 0, 0, 0, 0\\n0, 0, 4, 3, 2, 2, 0, 0, 0, 0, 0, 0, 0, 0\\n0, 0, 0, 0, 0, 0, 0, 0, 0, 0, 0, 0, 0, 0\\n0, 0, 0, 0, 0, 0, 0]'),\n",
              " Text(0.34782608695652173, 0.4642857142857143, 'gini = 0.0\\nsamples = 4\\nvalue = [0, 0, 0, 0, 0, 0, 0, 0, 0, 0, 0, 0, 0, 0\\n0, 0, 4, 0, 0, 0, 0, 0, 0, 0, 0, 0, 0, 0\\n0, 0, 0, 0, 0, 0, 0, 0, 0, 0, 0, 0, 0, 0\\n0, 0, 0, 0, 0, 0, 0]'),\n",
              " Text(0.391304347826087, 0.4642857142857143, 'X[1] <= 55.5\\ngini = 0.653\\nsamples = 7\\nvalue = [0, 0, 0, 0, 0, 0, 0, 0, 0, 0, 0, 0, 0, 0\\n0, 0, 0, 3, 2, 2, 0, 0, 0, 0, 0, 0, 0, 0\\n0, 0, 0, 0, 0, 0, 0, 0, 0, 0, 0, 0, 0, 0\\n0, 0, 0, 0, 0, 0, 0]'),\n",
              " Text(0.3695652173913043, 0.39285714285714285, 'gini = 0.0\\nsamples = 3\\nvalue = [0, 0, 0, 0, 0, 0, 0, 0, 0, 0, 0, 0, 0, 0\\n0, 0, 0, 3, 0, 0, 0, 0, 0, 0, 0, 0, 0, 0\\n0, 0, 0, 0, 0, 0, 0, 0, 0, 0, 0, 0, 0, 0\\n0, 0, 0, 0, 0, 0, 0]'),\n",
              " Text(0.41304347826086957, 0.39285714285714285, 'X[1] <= 56.5\\ngini = 0.5\\nsamples = 4\\nvalue = [0, 0, 0, 0, 0, 0, 0, 0, 0, 0, 0, 0, 0, 0\\n0, 0, 0, 0, 2, 2, 0, 0, 0, 0, 0, 0, 0, 0\\n0, 0, 0, 0, 0, 0, 0, 0, 0, 0, 0, 0, 0, 0\\n0, 0, 0, 0, 0, 0, 0]'),\n",
              " Text(0.391304347826087, 0.32142857142857145, 'gini = 0.0\\nsamples = 2\\nvalue = [0, 0, 0, 0, 0, 0, 0, 0, 0, 0, 0, 0, 0, 0\\n0, 0, 0, 0, 2, 0, 0, 0, 0, 0, 0, 0, 0, 0\\n0, 0, 0, 0, 0, 0, 0, 0, 0, 0, 0, 0, 0, 0\\n0, 0, 0, 0, 0, 0, 0]'),\n",
              " Text(0.43478260869565216, 0.32142857142857145, 'gini = 0.0\\nsamples = 2\\nvalue = [0, 0, 0, 0, 0, 0, 0, 0, 0, 0, 0, 0, 0, 0\\n0, 0, 0, 0, 0, 2, 0, 0, 0, 0, 0, 0, 0, 0\\n0, 0, 0, 0, 0, 0, 0, 0, 0, 0, 0, 0, 0, 0\\n0, 0, 0, 0, 0, 0, 0]'),\n",
              " Text(0.5, 0.6071428571428571, 'X[1] <= 58.5\\ngini = 0.716\\nsamples = 9\\nvalue = [0, 0, 0, 0, 0, 0, 0, 0, 0, 0, 0, 0, 0, 0\\n0, 0, 0, 0, 0, 0, 4, 1, 1, 2, 1, 0, 0, 0\\n0, 0, 0, 0, 0, 0, 0, 0, 0, 0, 0, 0, 0, 0\\n0, 0, 0, 0, 0, 0, 0]'),\n",
              " Text(0.4782608695652174, 0.5357142857142857, 'gini = 0.0\\nsamples = 4\\nvalue = [0, 0, 0, 0, 0, 0, 0, 0, 0, 0, 0, 0, 0, 0\\n0, 0, 0, 0, 0, 0, 4, 0, 0, 0, 0, 0, 0, 0\\n0, 0, 0, 0, 0, 0, 0, 0, 0, 0, 0, 0, 0, 0\\n0, 0, 0, 0, 0, 0, 0]'),\n",
              " Text(0.5217391304347826, 0.5357142857142857, 'X[1] <= 60.5\\ngini = 0.72\\nsamples = 5\\nvalue = [0, 0, 0, 0, 0, 0, 0, 0, 0, 0, 0, 0, 0, 0\\n0, 0, 0, 0, 0, 0, 0, 1, 1, 2, 1, 0, 0, 0\\n0, 0, 0, 0, 0, 0, 0, 0, 0, 0, 0, 0, 0, 0\\n0, 0, 0, 0, 0, 0, 0]'),\n",
              " Text(0.4782608695652174, 0.4642857142857143, 'X[1] <= 59.5\\ngini = 0.5\\nsamples = 2\\nvalue = [0, 0, 0, 0, 0, 0, 0, 0, 0, 0, 0, 0, 0, 0\\n0, 0, 0, 0, 0, 0, 0, 1, 1, 0, 0, 0, 0, 0\\n0, 0, 0, 0, 0, 0, 0, 0, 0, 0, 0, 0, 0, 0\\n0, 0, 0, 0, 0, 0, 0]'),\n",
              " Text(0.45652173913043476, 0.39285714285714285, 'gini = 0.0\\nsamples = 1\\nvalue = [0, 0, 0, 0, 0, 0, 0, 0, 0, 0, 0, 0, 0, 0\\n0, 0, 0, 0, 0, 0, 0, 1, 0, 0, 0, 0, 0, 0\\n0, 0, 0, 0, 0, 0, 0, 0, 0, 0, 0, 0, 0, 0\\n0, 0, 0, 0, 0, 0, 0]'),\n",
              " Text(0.5, 0.39285714285714285, 'gini = 0.0\\nsamples = 1\\nvalue = [0, 0, 0, 0, 0, 0, 0, 0, 0, 0, 0, 0, 0, 0\\n0, 0, 0, 0, 0, 0, 0, 0, 1, 0, 0, 0, 0, 0\\n0, 0, 0, 0, 0, 0, 0, 0, 0, 0, 0, 0, 0, 0\\n0, 0, 0, 0, 0, 0, 0]'),\n",
              " Text(0.5652173913043478, 0.4642857142857143, 'X[1] <= 62.0\\ngini = 0.444\\nsamples = 3\\nvalue = [0, 0, 0, 0, 0, 0, 0, 0, 0, 0, 0, 0, 0, 0\\n0, 0, 0, 0, 0, 0, 0, 0, 0, 2, 1, 0, 0, 0\\n0, 0, 0, 0, 0, 0, 0, 0, 0, 0, 0, 0, 0, 0\\n0, 0, 0, 0, 0, 0, 0]'),\n",
              " Text(0.5434782608695652, 0.39285714285714285, 'gini = 0.0\\nsamples = 2\\nvalue = [0, 0, 0, 0, 0, 0, 0, 0, 0, 0, 0, 0, 0, 0\\n0, 0, 0, 0, 0, 0, 0, 0, 0, 2, 0, 0, 0, 0\\n0, 0, 0, 0, 0, 0, 0, 0, 0, 0, 0, 0, 0, 0\\n0, 0, 0, 0, 0, 0, 0]'),\n",
              " Text(0.5869565217391305, 0.39285714285714285, 'gini = 0.0\\nsamples = 1\\nvalue = [0, 0, 0, 0, 0, 0, 0, 0, 0, 0, 0, 0, 0, 0\\n0, 0, 0, 0, 0, 0, 0, 0, 0, 0, 1, 0, 0, 0\\n0, 0, 0, 0, 0, 0, 0, 0, 0, 0, 0, 0, 0, 0\\n0, 0, 0, 0, 0, 0, 0]'),\n",
              " Text(0.6304347826086957, 0.6785714285714286, 'X[1] <= 64.5\\ngini = 0.765\\nsamples = 14\\nvalue = [0, 0, 0, 0, 0, 0, 0, 0, 0, 0, 0, 0, 0, 0\\n0, 0, 0, 0, 0, 0, 0, 0, 0, 0, 0, 5, 3, 1\\n1, 1, 3, 0, 0, 0, 0, 0, 0, 0, 0, 0, 0, 0\\n0, 0, 0, 0, 0, 0, 0]'),\n",
              " Text(0.6086956521739131, 0.6071428571428571, 'gini = 0.0\\nsamples = 5\\nvalue = [0, 0, 0, 0, 0, 0, 0, 0, 0, 0, 0, 0, 0, 0\\n0, 0, 0, 0, 0, 0, 0, 0, 0, 0, 0, 5, 0, 0\\n0, 0, 0, 0, 0, 0, 0, 0, 0, 0, 0, 0, 0, 0\\n0, 0, 0, 0, 0, 0, 0]'),\n",
              " Text(0.6521739130434783, 0.6071428571428571, 'X[1] <= 65.5\\ngini = 0.741\\nsamples = 9\\nvalue = [0, 0, 0, 0, 0, 0, 0, 0, 0, 0, 0, 0, 0, 0\\n0, 0, 0, 0, 0, 0, 0, 0, 0, 0, 0, 0, 3, 1\\n1, 1, 3, 0, 0, 0, 0, 0, 0, 0, 0, 0, 0, 0\\n0, 0, 0, 0, 0, 0, 0]'),\n",
              " Text(0.6304347826086957, 0.5357142857142857, 'gini = 0.0\\nsamples = 3\\nvalue = [0, 0, 0, 0, 0, 0, 0, 0, 0, 0, 0, 0, 0, 0\\n0, 0, 0, 0, 0, 0, 0, 0, 0, 0, 0, 0, 3, 0\\n0, 0, 0, 0, 0, 0, 0, 0, 0, 0, 0, 0, 0, 0\\n0, 0, 0, 0, 0, 0, 0]'),\n",
              " Text(0.6739130434782609, 0.5357142857142857, 'X[0] <= 65.5\\ngini = 0.667\\nsamples = 6\\nvalue = [0, 0, 0, 0, 0, 0, 0, 0, 0, 0, 0, 0, 0, 0\\n0, 0, 0, 0, 0, 0, 0, 0, 0, 0, 0, 0, 0, 1\\n1, 1, 3, 0, 0, 0, 0, 0, 0, 0, 0, 0, 0, 0\\n0, 0, 0, 0, 0, 0, 0]'),\n",
              " Text(0.6521739130434783, 0.4642857142857143, 'X[0] <= 60.0\\ngini = 0.667\\nsamples = 3\\nvalue = [0, 0, 0, 0, 0, 0, 0, 0, 0, 0, 0, 0, 0, 0\\n0, 0, 0, 0, 0, 0, 0, 0, 0, 0, 0, 0, 0, 1\\n1, 1, 0, 0, 0, 0, 0, 0, 0, 0, 0, 0, 0, 0\\n0, 0, 0, 0, 0, 0, 0]'),\n",
              " Text(0.6304347826086957, 0.39285714285714285, 'gini = 0.0\\nsamples = 1\\nvalue = [0, 0, 0, 0, 0, 0, 0, 0, 0, 0, 0, 0, 0, 0\\n0, 0, 0, 0, 0, 0, 0, 0, 0, 0, 0, 0, 0, 0\\n1, 0, 0, 0, 0, 0, 0, 0, 0, 0, 0, 0, 0, 0\\n0, 0, 0, 0, 0, 0, 0]'),\n",
              " Text(0.6739130434782609, 0.39285714285714285, 'X[0] <= 63.5\\ngini = 0.5\\nsamples = 2\\nvalue = [0, 0, 0, 0, 0, 0, 0, 0, 0, 0, 0, 0, 0, 0\\n0, 0, 0, 0, 0, 0, 0, 0, 0, 0, 0, 0, 0, 1\\n0, 1, 0, 0, 0, 0, 0, 0, 0, 0, 0, 0, 0, 0\\n0, 0, 0, 0, 0, 0, 0]'),\n",
              " Text(0.6521739130434783, 0.32142857142857145, 'gini = 0.0\\nsamples = 1\\nvalue = [0, 0, 0, 0, 0, 0, 0, 0, 0, 0, 0, 0, 0, 0\\n0, 0, 0, 0, 0, 0, 0, 0, 0, 0, 0, 0, 0, 0\\n0, 1, 0, 0, 0, 0, 0, 0, 0, 0, 0, 0, 0, 0\\n0, 0, 0, 0, 0, 0, 0]'),\n",
              " Text(0.6956521739130435, 0.32142857142857145, 'gini = 0.0\\nsamples = 1\\nvalue = [0, 0, 0, 0, 0, 0, 0, 0, 0, 0, 0, 0, 0, 0\\n0, 0, 0, 0, 0, 0, 0, 0, 0, 0, 0, 0, 0, 1\\n0, 0, 0, 0, 0, 0, 0, 0, 0, 0, 0, 0, 0, 0\\n0, 0, 0, 0, 0, 0, 0]'),\n",
              " Text(0.6956521739130435, 0.4642857142857143, 'gini = 0.0\\nsamples = 3\\nvalue = [0, 0, 0, 0, 0, 0, 0, 0, 0, 0, 0, 0, 0, 0\\n0, 0, 0, 0, 0, 0, 0, 0, 0, 0, 0, 0, 0, 0\\n0, 0, 3, 0, 0, 0, 0, 0, 0, 0, 0, 0, 0, 0\\n0, 0, 0, 0, 0, 0, 0]'),\n",
              " Text(0.5543478260869565, 0.75, 'gini = 0.0\\nsamples = 3\\nvalue = [0, 0, 0, 0, 0, 0, 0, 0, 0, 0, 0, 0, 0, 0\\n0, 0, 0, 0, 0, 0, 0, 0, 0, 0, 0, 0, 0, 0\\n0, 0, 0, 3, 0, 0, 0, 0, 0, 0, 0, 0, 0, 0\\n0, 0, 0, 0, 0, 0, 0]'),\n",
              " Text(0.5760869565217391, 0.8214285714285714, 'gini = 0.0\\nsamples = 3\\nvalue = [0, 0, 0, 0, 0, 0, 0, 0, 0, 0, 0, 0, 0, 0\\n0, 0, 0, 0, 0, 0, 0, 0, 0, 0, 0, 0, 0, 0\\n0, 0, 0, 0, 3, 0, 0, 0, 0, 0, 0, 0, 0, 0\\n0, 0, 0, 0, 0, 0, 0]'),\n",
              " Text(0.7336956521739131, 0.8928571428571429, 'X[1] <= 72.5\\ngini = 0.916\\nsamples = 38\\nvalue = [0, 0, 0, 0, 0, 0, 0, 0, 0, 0, 0, 0, 0, 0\\n0, 0, 0, 0, 0, 0, 0, 0, 0, 0, 0, 0, 0, 0\\n0, 0, 0, 0, 0, 6, 2, 5, 2, 3, 1, 2, 4, 2\\n2, 1, 2, 1, 1, 2, 2]'),\n",
              " Text(0.7119565217391305, 0.8214285714285714, 'gini = 0.0\\nsamples = 6\\nvalue = [0, 0, 0, 0, 0, 0, 0, 0, 0, 0, 0, 0, 0, 0\\n0, 0, 0, 0, 0, 0, 0, 0, 0, 0, 0, 0, 0, 0\\n0, 0, 0, 0, 0, 6, 0, 0, 0, 0, 0, 0, 0, 0\\n0, 0, 0, 0, 0, 0, 0]'),\n",
              " Text(0.7554347826086957, 0.8214285714285714, 'X[1] <= 74.5\\ngini = 0.916\\nsamples = 32\\nvalue = [0, 0, 0, 0, 0, 0, 0, 0, 0, 0, 0, 0, 0, 0\\n0, 0, 0, 0, 0, 0, 0, 0, 0, 0, 0, 0, 0, 0\\n0, 0, 0, 0, 0, 0, 2, 5, 2, 3, 1, 2, 4, 2\\n2, 1, 2, 1, 1, 2, 2]'),\n",
              " Text(0.6956521739130435, 0.75, 'X[1] <= 73.5\\ngini = 0.408\\nsamples = 7\\nvalue = [0, 0, 0, 0, 0, 0, 0, 0, 0, 0, 0, 0, 0, 0\\n0, 0, 0, 0, 0, 0, 0, 0, 0, 0, 0, 0, 0, 0\\n0, 0, 0, 0, 0, 0, 2, 5, 0, 0, 0, 0, 0, 0\\n0, 0, 0, 0, 0, 0, 0]'),\n",
              " Text(0.6739130434782609, 0.6785714285714286, 'gini = 0.0\\nsamples = 2\\nvalue = [0, 0, 0, 0, 0, 0, 0, 0, 0, 0, 0, 0, 0, 0\\n0, 0, 0, 0, 0, 0, 0, 0, 0, 0, 0, 0, 0, 0\\n0, 0, 0, 0, 0, 0, 2, 0, 0, 0, 0, 0, 0, 0\\n0, 0, 0, 0, 0, 0, 0]'),\n",
              " Text(0.717391304347826, 0.6785714285714286, 'gini = 0.0\\nsamples = 5\\nvalue = [0, 0, 0, 0, 0, 0, 0, 0, 0, 0, 0, 0, 0, 0\\n0, 0, 0, 0, 0, 0, 0, 0, 0, 0, 0, 0, 0, 0\\n0, 0, 0, 0, 0, 0, 0, 5, 0, 0, 0, 0, 0, 0\\n0, 0, 0, 0, 0, 0, 0]'),\n",
              " Text(0.8152173913043478, 0.75, 'X[1] <= 78.5\\ngini = 0.909\\nsamples = 25\\nvalue = [0, 0, 0, 0, 0, 0, 0, 0, 0, 0, 0, 0, 0, 0\\n0, 0, 0, 0, 0, 0, 0, 0, 0, 0, 0, 0, 0, 0\\n0, 0, 0, 0, 0, 0, 0, 0, 2, 3, 1, 2, 4, 2\\n2, 1, 2, 1, 1, 2, 2]'),\n",
              " Text(0.7608695652173914, 0.6785714285714286, 'X[1] <= 76.5\\ngini = 0.48\\nsamples = 5\\nvalue = [0, 0, 0, 0, 0, 0, 0, 0, 0, 0, 0, 0, 0, 0\\n0, 0, 0, 0, 0, 0, 0, 0, 0, 0, 0, 0, 0, 0\\n0, 0, 0, 0, 0, 0, 0, 0, 2, 3, 0, 0, 0, 0\\n0, 0, 0, 0, 0, 0, 0]'),\n",
              " Text(0.7391304347826086, 0.6071428571428571, 'gini = 0.0\\nsamples = 2\\nvalue = [0, 0, 0, 0, 0, 0, 0, 0, 0, 0, 0, 0, 0, 0\\n0, 0, 0, 0, 0, 0, 0, 0, 0, 0, 0, 0, 0, 0\\n0, 0, 0, 0, 0, 0, 0, 0, 2, 0, 0, 0, 0, 0\\n0, 0, 0, 0, 0, 0, 0]'),\n",
              " Text(0.782608695652174, 0.6071428571428571, 'gini = 0.0\\nsamples = 3\\nvalue = [0, 0, 0, 0, 0, 0, 0, 0, 0, 0, 0, 0, 0, 0\\n0, 0, 0, 0, 0, 0, 0, 0, 0, 0, 0, 0, 0, 0\\n0, 0, 0, 0, 0, 0, 0, 0, 0, 3, 0, 0, 0, 0\\n0, 0, 0, 0, 0, 0, 0]'),\n",
              " Text(0.8695652173913043, 0.6785714285714286, 'X[1] <= 82.0\\ngini = 0.89\\nsamples = 20\\nvalue = [0, 0, 0, 0, 0, 0, 0, 0, 0, 0, 0, 0, 0, 0\\n0, 0, 0, 0, 0, 0, 0, 0, 0, 0, 0, 0, 0, 0\\n0, 0, 0, 0, 0, 0, 0, 0, 0, 0, 1, 2, 4, 2\\n2, 1, 2, 1, 1, 2, 2]'),\n",
              " Text(0.8260869565217391, 0.6071428571428571, 'X[1] <= 80.5\\ngini = 0.571\\nsamples = 7\\nvalue = [0, 0, 0, 0, 0, 0, 0, 0, 0, 0, 0, 0, 0, 0\\n0, 0, 0, 0, 0, 0, 0, 0, 0, 0, 0, 0, 0, 0\\n0, 0, 0, 0, 0, 0, 0, 0, 0, 0, 1, 2, 4, 0\\n0, 0, 0, 0, 0, 0, 0]'),\n",
              " Text(0.8043478260869565, 0.5357142857142857, 'X[1] <= 79.5\\ngini = 0.444\\nsamples = 3\\nvalue = [0, 0, 0, 0, 0, 0, 0, 0, 0, 0, 0, 0, 0, 0\\n0, 0, 0, 0, 0, 0, 0, 0, 0, 0, 0, 0, 0, 0\\n0, 0, 0, 0, 0, 0, 0, 0, 0, 0, 1, 2, 0, 0\\n0, 0, 0, 0, 0, 0, 0]'),\n",
              " Text(0.782608695652174, 0.4642857142857143, 'gini = 0.0\\nsamples = 1\\nvalue = [0, 0, 0, 0, 0, 0, 0, 0, 0, 0, 0, 0, 0, 0\\n0, 0, 0, 0, 0, 0, 0, 0, 0, 0, 0, 0, 0, 0\\n0, 0, 0, 0, 0, 0, 0, 0, 0, 0, 1, 0, 0, 0\\n0, 0, 0, 0, 0, 0, 0]'),\n",
              " Text(0.8260869565217391, 0.4642857142857143, 'gini = 0.0\\nsamples = 2\\nvalue = [0, 0, 0, 0, 0, 0, 0, 0, 0, 0, 0, 0, 0, 0\\n0, 0, 0, 0, 0, 0, 0, 0, 0, 0, 0, 0, 0, 0\\n0, 0, 0, 0, 0, 0, 0, 0, 0, 0, 0, 2, 0, 0\\n0, 0, 0, 0, 0, 0, 0]'),\n",
              " Text(0.8478260869565217, 0.5357142857142857, 'gini = 0.0\\nsamples = 4\\nvalue = [0, 0, 0, 0, 0, 0, 0, 0, 0, 0, 0, 0, 0, 0\\n0, 0, 0, 0, 0, 0, 0, 0, 0, 0, 0, 0, 0, 0\\n0, 0, 0, 0, 0, 0, 0, 0, 0, 0, 0, 0, 4, 0\\n0, 0, 0, 0, 0, 0, 0]'),\n",
              " Text(0.9130434782608695, 0.6071428571428571, 'X[1] <= 83.5\\ngini = 0.864\\nsamples = 13\\nvalue = [0, 0, 0, 0, 0, 0, 0, 0, 0, 0, 0, 0, 0, 0\\n0, 0, 0, 0, 0, 0, 0, 0, 0, 0, 0, 0, 0, 0\\n0, 0, 0, 0, 0, 0, 0, 0, 0, 0, 0, 0, 0, 2\\n2, 1, 2, 1, 1, 2, 2]'),\n",
              " Text(0.8913043478260869, 0.5357142857142857, 'gini = 0.0\\nsamples = 2\\nvalue = [0, 0, 0, 0, 0, 0, 0, 0, 0, 0, 0, 0, 0, 0\\n0, 0, 0, 0, 0, 0, 0, 0, 0, 0, 0, 0, 0, 0\\n0, 0, 0, 0, 0, 0, 0, 0, 0, 0, 0, 0, 0, 2\\n0, 0, 0, 0, 0, 0, 0]'),\n",
              " Text(0.9347826086956522, 0.5357142857142857, 'X[1] <= 84.5\\ngini = 0.843\\nsamples = 11\\nvalue = [0, 0, 0, 0, 0, 0, 0, 0, 0, 0, 0, 0, 0, 0\\n0, 0, 0, 0, 0, 0, 0, 0, 0, 0, 0, 0, 0, 0\\n0, 0, 0, 0, 0, 0, 0, 0, 0, 0, 0, 0, 0, 0\\n2, 1, 2, 1, 1, 2, 2]'),\n",
              " Text(0.9130434782608695, 0.4642857142857143, 'gini = 0.0\\nsamples = 2\\nvalue = [0, 0, 0, 0, 0, 0, 0, 0, 0, 0, 0, 0, 0, 0\\n0, 0, 0, 0, 0, 0, 0, 0, 0, 0, 0, 0, 0, 0\\n0, 0, 0, 0, 0, 0, 0, 0, 0, 0, 0, 0, 0, 0\\n2, 0, 0, 0, 0, 0, 0]'),\n",
              " Text(0.9565217391304348, 0.4642857142857143, 'X[1] <= 92.5\\ngini = 0.815\\nsamples = 9\\nvalue = [0, 0, 0, 0, 0, 0, 0, 0, 0, 0, 0, 0, 0, 0\\n0, 0, 0, 0, 0, 0, 0, 0, 0, 0, 0, 0, 0, 0\\n0, 0, 0, 0, 0, 0, 0, 0, 0, 0, 0, 0, 0, 0\\n0, 1, 2, 1, 1, 2, 2]'),\n",
              " Text(0.9347826086956522, 0.39285714285714285, 'X[1] <= 89.5\\ngini = 0.776\\nsamples = 7\\nvalue = [0, 0, 0, 0, 0, 0, 0, 0, 0, 0, 0, 0, 0, 0\\n0, 0, 0, 0, 0, 0, 0, 0, 0, 0, 0, 0, 0, 0\\n0, 0, 0, 0, 0, 0, 0, 0, 0, 0, 0, 0, 0, 0\\n0, 1, 2, 1, 1, 2, 0]'),\n",
              " Text(0.9130434782608695, 0.32142857142857145, 'X[0] <= 80.5\\ngini = 0.72\\nsamples = 5\\nvalue = [0, 0, 0, 0, 0, 0, 0, 0, 0, 0, 0, 0, 0, 0\\n0, 0, 0, 0, 0, 0, 0, 0, 0, 0, 0, 0, 0, 0\\n0, 0, 0, 0, 0, 0, 0, 0, 0, 0, 0, 0, 0, 0\\n0, 1, 2, 1, 1, 0, 0]'),\n",
              " Text(0.8913043478260869, 0.25, 'gini = 0.0\\nsamples = 2\\nvalue = [0, 0, 0, 0, 0, 0, 0, 0, 0, 0, 0, 0, 0, 0\\n0, 0, 0, 0, 0, 0, 0, 0, 0, 0, 0, 0, 0, 0\\n0, 0, 0, 0, 0, 0, 0, 0, 0, 0, 0, 0, 0, 0\\n0, 0, 2, 0, 0, 0, 0]'),\n",
              " Text(0.9347826086956522, 0.25, 'X[1] <= 86.0\\ngini = 0.667\\nsamples = 3\\nvalue = [0, 0, 0, 0, 0, 0, 0, 0, 0, 0, 0, 0, 0, 0\\n0, 0, 0, 0, 0, 0, 0, 0, 0, 0, 0, 0, 0, 0\\n0, 0, 0, 0, 0, 0, 0, 0, 0, 0, 0, 0, 0, 0\\n0, 1, 0, 1, 1, 0, 0]'),\n",
              " Text(0.9130434782608695, 0.17857142857142858, 'gini = 0.0\\nsamples = 1\\nvalue = [0, 0, 0, 0, 0, 0, 0, 0, 0, 0, 0, 0, 0, 0\\n0, 0, 0, 0, 0, 0, 0, 0, 0, 0, 0, 0, 0, 0\\n0, 0, 0, 0, 0, 0, 0, 0, 0, 0, 0, 0, 0, 0\\n0, 1, 0, 0, 0, 0, 0]'),\n",
              " Text(0.9565217391304348, 0.17857142857142858, 'X[0] <= 92.5\\ngini = 0.5\\nsamples = 2\\nvalue = [0, 0, 0, 0, 0, 0, 0, 0, 0, 0, 0, 0, 0, 0\\n0, 0, 0, 0, 0, 0, 0, 0, 0, 0, 0, 0, 0, 0\\n0, 0, 0, 0, 0, 0, 0, 0, 0, 0, 0, 0, 0, 0\\n0, 0, 0, 1, 1, 0, 0]'),\n",
              " Text(0.9347826086956522, 0.10714285714285714, 'gini = 0.0\\nsamples = 1\\nvalue = [0, 0, 0, 0, 0, 0, 0, 0, 0, 0, 0, 0, 0, 0\\n0, 0, 0, 0, 0, 0, 0, 0, 0, 0, 0, 0, 0, 0\\n0, 0, 0, 0, 0, 0, 0, 0, 0, 0, 0, 0, 0, 0\\n0, 0, 0, 0, 1, 0, 0]'),\n",
              " Text(0.9782608695652174, 0.10714285714285714, 'gini = 0.0\\nsamples = 1\\nvalue = [0, 0, 0, 0, 0, 0, 0, 0, 0, 0, 0, 0, 0, 0\\n0, 0, 0, 0, 0, 0, 0, 0, 0, 0, 0, 0, 0, 0\\n0, 0, 0, 0, 0, 0, 0, 0, 0, 0, 0, 0, 0, 0\\n0, 0, 0, 1, 0, 0, 0]'),\n",
              " Text(0.9565217391304348, 0.32142857142857145, 'gini = 0.0\\nsamples = 2\\nvalue = [0, 0, 0, 0, 0, 0, 0, 0, 0, 0, 0, 0, 0, 0\\n0, 0, 0, 0, 0, 0, 0, 0, 0, 0, 0, 0, 0, 0\\n0, 0, 0, 0, 0, 0, 0, 0, 0, 0, 0, 0, 0, 0\\n0, 0, 0, 0, 0, 2, 0]'),\n",
              " Text(0.9782608695652174, 0.39285714285714285, 'gini = 0.0\\nsamples = 2\\nvalue = [0, 0, 0, 0, 0, 0, 0, 0, 0, 0, 0, 0, 0, 0\\n0, 0, 0, 0, 0, 0, 0, 0, 0, 0, 0, 0, 0, 0\\n0, 0, 0, 0, 0, 0, 0, 0, 0, 0, 0, 0, 0, 0\\n0, 0, 0, 0, 0, 0, 2]')]"
            ]
          },
          "metadata": {},
          "execution_count": 15
        },
        {
          "output_type": "display_data",
          "data": {
            "text/plain": [
              "<Figure size 432x288 with 1 Axes>"
            ],
            "image/png": "[encoded data removed]"
          },
          "metadata": {
            "needs_background": "light"
          }
        }
      ]
    }
  ]
}